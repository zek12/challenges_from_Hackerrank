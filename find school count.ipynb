{
 "cells": [
  {
   "cell_type": "code",
   "execution_count": 1,
   "metadata": {},
   "outputs": [],
   "source": [
    "import pandas as pd"
   ]
  },
  {
   "cell_type": "code",
   "execution_count": 78,
   "metadata": {},
   "outputs": [
    {
     "name": "stdout",
     "output_type": "stream",
     "text": [
      "  school_id state_code                         subjects\n",
      "0     sch_3     !@sc_2                    maths biology\n",
      "1     sch_4     sc_2)_                           french\n",
      "2     sch_5     sc_1#@  social_studies maths literature\n",
      "3     sch_6    sc_10#@            english maths history\n"
     ]
    }
   ],
   "source": [
    "data = [\n",
    "    # ['sch_1', '!@sc_1', 'english maths chemistry'],\n",
    "    # ['sch_2', '))sc_2', 'english physics chemistry'],\n",
    "    ['sch_3', '!@sc_2', 'maths biology'],\n",
    "    ['sch_4', 'sc_2)_', 'french'],\n",
    "    ['sch_5', 'sc_1#@', 'social_studies maths literature'],\n",
    "    ['sch_6', 'sc_10#@', 'english maths history'],\n",
    "]\n",
    "\n",
    "columns = ['school_id', 'state_code', 'subjects']\n",
    "\n",
    "df = pd.DataFrame(data, columns=columns)\n",
    "print(df)\n"
   ]
  },
  {
   "cell_type": "code",
   "execution_count": 77,
   "metadata": {},
   "outputs": [],
   "source": [
    "def alphanum(element):    \n",
    "    return \"\".join(filter(str.isalnum, element))\n",
    "\n",
    "def schoolCount(df):\n",
    "    # drop all the schools offering fewer than 3 subjects\n",
    "    df = df[df['subjects'].apply(lambda x: len(x.split())) >= 3]\n",
    "    \n",
    "    # clean the state_code column such that it only contains alpha-numeric characters\n",
    "    df.loc[:,'state_code'] = [alphanum(x) for x in df.state_code]\n",
    "    \n",
    "    # for each state, return the number of schools offering English, Maths, Physics and Chemistry, each in a separate column\n",
    "    subjects_df = df['subjects'].str.get_dummies(' ')\n",
    "    if not 'english' in subjects_df.columns:\n",
    "        subjects_df['english'] = 0\n",
    "    if not 'maths' in subjects_df.columns:\n",
    "        subjects_df['maths'] = 0\n",
    "    if not 'physics' in subjects_df.columns:\n",
    "        subjects_df['physics'] = 0\n",
    "    if not 'chemistry' in subjects_df.columns:\n",
    "        subjects_df['chemistry'] = 0\n",
    "    df = pd.concat([df, subjects_df], axis=1)\n",
    "    res = df.groupby('state_code')[['english', 'maths', 'physics', 'chemistry']].sum().reset_index()\n",
    "\n",
    "    return(res)"
   ]
  },
  {
   "cell_type": "code",
   "execution_count": 79,
   "metadata": {},
   "outputs": [],
   "source": [
    "df = df[df['subjects'].apply(lambda x: len(x.split())) >= 3]"
   ]
  },
  {
   "cell_type": "code",
   "execution_count": 80,
   "metadata": {},
   "outputs": [],
   "source": [
    "df.loc[:,'state_code'] = [alphanum(x) for x in df.state_code]"
   ]
  },
  {
   "cell_type": "code",
   "execution_count": 81,
   "metadata": {},
   "outputs": [],
   "source": [
    "subjects_df = df['subjects'].str.get_dummies(' ')\n",
    "if not 'english' in subjects_df.columns:\n",
    "    subjects_df['english'] = 0\n",
    "if not 'maths' in subjects_df.columns:\n",
    "    subjects_df['maths'] = 0\n",
    "if not 'physics' in subjects_df.columns:\n",
    "    subjects_df['physics'] = 0\n",
    "if not 'chemistry' in subjects_df.columns:\n",
    "    subjects_df['chemistry'] = 0\n",
    "df = pd.concat([df, subjects_df], axis=1)\n",
    "res = df.groupby('state_code')[['english', 'maths', 'physics', 'chemistry']].sum().reset_index()"
   ]
  },
  {
   "cell_type": "code",
   "execution_count": 82,
   "metadata": {},
   "outputs": [
    {
     "data": {
      "text/html": [
       "<div>\n",
       "<style scoped>\n",
       "    .dataframe tbody tr th:only-of-type {\n",
       "        vertical-align: middle;\n",
       "    }\n",
       "\n",
       "    .dataframe tbody tr th {\n",
       "        vertical-align: top;\n",
       "    }\n",
       "\n",
       "    .dataframe thead th {\n",
       "        text-align: right;\n",
       "    }\n",
       "</style>\n",
       "<table border=\"1\" class=\"dataframe\">\n",
       "  <thead>\n",
       "    <tr style=\"text-align: right;\">\n",
       "      <th></th>\n",
       "      <th>state_code</th>\n",
       "      <th>english</th>\n",
       "      <th>maths</th>\n",
       "      <th>physics</th>\n",
       "      <th>chemistry</th>\n",
       "    </tr>\n",
       "  </thead>\n",
       "  <tbody>\n",
       "    <tr>\n",
       "      <th>0</th>\n",
       "      <td>sc1</td>\n",
       "      <td>0</td>\n",
       "      <td>1</td>\n",
       "      <td>0</td>\n",
       "      <td>0</td>\n",
       "    </tr>\n",
       "    <tr>\n",
       "      <th>1</th>\n",
       "      <td>sc10</td>\n",
       "      <td>1</td>\n",
       "      <td>1</td>\n",
       "      <td>0</td>\n",
       "      <td>0</td>\n",
       "    </tr>\n",
       "  </tbody>\n",
       "</table>\n",
       "</div>"
      ],
      "text/plain": [
       "  state_code  english  maths  physics  chemistry\n",
       "0        sc1        0      1        0          0\n",
       "1       sc10        1      1        0          0"
      ]
     },
     "execution_count": 82,
     "metadata": {},
     "output_type": "execute_result"
    }
   ],
   "source": [
    "res"
   ]
  },
  {
   "cell_type": "code",
   "execution_count": 76,
   "metadata": {},
   "outputs": [
    {
     "name": "stdout",
     "output_type": "stream",
     "text": [
      "   english  history  literature  maths  social_studies  chemistry\n",
      "2        0        0           1      1               1          0\n",
      "3        1        1           0      1               0          0\n"
     ]
    }
   ],
   "source": [
    "if not 'chemistry' in subjects_df.columns:\n",
    "    subjects_df['chemistry'] = 0\n",
    "if not 'english' in subjects_df.columns:\n",
    "    subjects_df['english'] = 0\n",
    "if not 'maths' in subjects_df.columns:\n",
    "    subjects_df['maths'] = 0\n",
    "if not 'physics' in subjects_df.columns:\n",
    "    subjects_df['physics'] = 0\n",
    "\n",
    "print(subjects_df)"
   ]
  },
  {
   "cell_type": "code",
   "execution_count": 66,
   "metadata": {},
   "outputs": [
    {
     "data": {
      "text/html": [
       "<div>\n",
       "<style scoped>\n",
       "    .dataframe tbody tr th:only-of-type {\n",
       "        vertical-align: middle;\n",
       "    }\n",
       "\n",
       "    .dataframe tbody tr th {\n",
       "        vertical-align: top;\n",
       "    }\n",
       "\n",
       "    .dataframe thead th {\n",
       "        text-align: right;\n",
       "    }\n",
       "</style>\n",
       "<table border=\"1\" class=\"dataframe\">\n",
       "  <thead>\n",
       "    <tr style=\"text-align: right;\">\n",
       "      <th></th>\n",
       "      <th>school_id</th>\n",
       "      <th>state_code</th>\n",
       "      <th>subjects</th>\n",
       "      <th>english</th>\n",
       "      <th>history</th>\n",
       "      <th>literature</th>\n",
       "      <th>maths</th>\n",
       "      <th>social_studies</th>\n",
       "    </tr>\n",
       "  </thead>\n",
       "  <tbody>\n",
       "    <tr>\n",
       "      <th>2</th>\n",
       "      <td>sch_5</td>\n",
       "      <td>sc1</td>\n",
       "      <td>social_studies maths literature</td>\n",
       "      <td>0</td>\n",
       "      <td>0</td>\n",
       "      <td>1</td>\n",
       "      <td>1</td>\n",
       "      <td>1</td>\n",
       "    </tr>\n",
       "    <tr>\n",
       "      <th>3</th>\n",
       "      <td>sch_6</td>\n",
       "      <td>sc10</td>\n",
       "      <td>english maths history</td>\n",
       "      <td>1</td>\n",
       "      <td>1</td>\n",
       "      <td>0</td>\n",
       "      <td>1</td>\n",
       "      <td>0</td>\n",
       "    </tr>\n",
       "  </tbody>\n",
       "</table>\n",
       "</div>"
      ],
      "text/plain": [
       "  school_id state_code                         subjects  english  history  \\\n",
       "2     sch_5        sc1  social_studies maths literature        0        0   \n",
       "3     sch_6       sc10            english maths history        1        1   \n",
       "\n",
       "   literature  maths  social_studies  \n",
       "2           1      1               1  \n",
       "3           0      1               0  "
      ]
     },
     "execution_count": 66,
     "metadata": {},
     "output_type": "execute_result"
    }
   ],
   "source": [
    "subjects_df = df['subjects'].str.get_dummies(' ')\n",
    "df = pd.concat([df, subjects_df], axis=1)\n",
    "res = df.groupby('state_code')[['english', 'maths', 'physics', 'chemistry']].sum().reset_index()\n"
   ]
  }
 ],
 "metadata": {
  "kernelspec": {
   "display_name": "aiml",
   "language": "python",
   "name": "python3"
  },
  "language_info": {
   "codemirror_mode": {
    "name": "ipython",
    "version": 3
   },
   "file_extension": ".py",
   "mimetype": "text/x-python",
   "name": "python",
   "nbconvert_exporter": "python",
   "pygments_lexer": "ipython3",
   "version": "3.10.8"
  }
 },
 "nbformat": 4,
 "nbformat_minor": 2
}
